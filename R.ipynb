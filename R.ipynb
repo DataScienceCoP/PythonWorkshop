{
 "cells": [
  {
   "cell_type": "code",
   "execution_count": 1,
   "id": "e1bf376e-6726-4876-ab13-d0c543c6bf1f",
   "metadata": {},
   "outputs": [
    {
     "data": {
      "text/html": [
       "2"
      ],
      "text/latex": [
       "2"
      ],
      "text/markdown": [
       "2"
      ],
      "text/plain": [
       "[1] 2"
      ]
     },
     "metadata": {},
     "output_type": "display_data"
    }
   ],
   "source": [
    "1+1"
   ]
  },
  {
   "cell_type": "code",
   "execution_count": 12,
   "id": "634aef5b-629d-498b-af52-19170ded5e4d",
   "metadata": {},
   "outputs": [
    {
     "name": "stdout",
     "output_type": "stream",
     "text": [
      "[1] \"Texto\"\n"
     ]
    }
   ],
   "source": [
    "print(\"Texto\")"
   ]
  },
  {
   "cell_type": "code",
   "execution_count": 32,
   "id": "8d5a357d-bef1-4163-b18a-069994b93c47",
   "metadata": {},
   "outputs": [
    {
     "data": {
      "text/html": [
       "125708944"
      ],
      "text/latex": [
       "125708944"
      ],
      "text/markdown": [
       "125708944"
      ],
      "text/plain": [
       "[1] 125708944"
      ]
     },
     "metadata": {},
     "output_type": "display_data"
    }
   ],
   "source": [
    "variable<-11212^2\n",
    "variable"
   ]
  },
  {
   "cell_type": "code",
   "execution_count": 31,
   "id": "70489c58-406f-4fab-b90a-66b156fbc56a",
   "metadata": {},
   "outputs": [
    {
     "name": "stdout",
     "output_type": "stream",
     "text": [
      "[1] \"Valor incorrecto\"\n",
      "[1] 1\n",
      "[1] \"Valor acertado\"\n",
      "[1] 2\n",
      "[1] \"Valor incorrecto\"\n",
      "[1] 3\n",
      "[1] \"Valor incorrecto\"\n",
      "[1] 4\n",
      "[1] \"Valor incorrecto\"\n",
      "[1] 5\n",
      "[1] \"Valor acertado\"\n",
      "[1] 0\n"
     ]
    }
   ],
   "source": [
    "probar <- function(var) {\n",
    "    aleatorio = round(runif(1, min=1, max=10))\n",
    "    if (var == aleatorio | var == 0) {\n",
    "      print(\"Valor acertado\")\n",
    "    } else {\n",
    "      print(\"Valor incorrecto\")\n",
    "    }\n",
    "    print(var)\n",
    "}\n",
    "\n",
    "for (i in 1:5) {\n",
    "    probar(i)\n",
    "}\n",
    "\n",
    "probar(0)"
   ]
  },
  {
   "cell_type": "code",
   "execution_count": null,
   "id": "dc272719-5554-470e-9469-410cfbe7426e",
   "metadata": {},
   "outputs": [],
   "source": []
  }
 ],
 "metadata": {
  "kernelspec": {
   "display_name": "R",
   "language": "R",
   "name": "ir"
  },
  "language_info": {
   "codemirror_mode": "r",
   "file_extension": ".r",
   "mimetype": "text/x-r-source",
   "name": "R",
   "pygments_lexer": "r",
   "version": "4.2.2"
  }
 },
 "nbformat": 4,
 "nbformat_minor": 5
}
