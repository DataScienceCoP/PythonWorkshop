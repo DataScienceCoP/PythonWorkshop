{
 "cells": [
  {
   "cell_type": "code",
   "execution_count": 1,
   "id": "206271a8-b62d-4bc6-96ee-4be0e33001b1",
   "metadata": {},
   "outputs": [
    {
     "data": {
      "text/plain": [
       "111"
      ]
     },
     "execution_count": 1,
     "metadata": {},
     "output_type": "execute_result"
    }
   ],
   "source": [
    "42+69  # Suma"
   ]
  },
  {
   "cell_type": "code",
   "execution_count": 2,
   "id": "8fe6ed35-bf2f-4a04-b322-7b145189d923",
   "metadata": {},
   "outputs": [
    {
     "data": {
      "text/plain": [
       "-25"
      ]
     },
     "execution_count": 2,
     "metadata": {},
     "output_type": "execute_result"
    }
   ],
   "source": [
    "18-43 # Resta"
   ]
  },
  {
   "cell_type": "code",
   "execution_count": 3,
   "id": "3070fa0f-e7dc-48e0-915e-a780a67ea273",
   "metadata": {},
   "outputs": [
    {
     "data": {
      "text/plain": [
       "408"
      ]
     },
     "execution_count": 3,
     "metadata": {},
     "output_type": "execute_result"
    }
   ],
   "source": [
    "34*12 # Multiplicacion usamos asterisco (*)"
   ]
  },
  {
   "cell_type": "code",
   "execution_count": 4,
   "id": "83e5fa8b-c3d8-4b7d-b9df-2210f1f2c157",
   "metadata": {},
   "outputs": [
    {
     "data": {
      "text/plain": [
       "6.845528455284553"
      ]
     },
     "execution_count": 4,
     "metadata": {},
     "output_type": "execute_result"
    }
   ],
   "source": [
    "842/123  # Division"
   ]
  },
  {
   "cell_type": "code",
   "execution_count": 5,
   "id": "48ac3986-5526-4b4e-9d41-2d91dcf8d0e6",
   "metadata": {},
   "outputs": [
    {
     "data": {
      "text/plain": [
       "529"
      ]
     },
     "execution_count": 5,
     "metadata": {},
     "output_type": "execute_result"
    }
   ],
   "source": [
    "23**2 # Exponenciacion"
   ]
  },
  {
   "cell_type": "code",
   "execution_count": 6,
   "id": "ce2a21b4-a1e2-49da-b780-3551bff0b800",
   "metadata": {},
   "outputs": [
    {
     "data": {
      "text/plain": [
       "16.0"
      ]
     },
     "execution_count": 6,
     "metadata": {},
     "output_type": "execute_result"
    }
   ],
   "source": [
    "256**(1/2) # Radicacion"
   ]
  },
  {
   "cell_type": "code",
   "execution_count": 7,
   "id": "da8179ee-8fb3-4c93-b321-bace51d12065",
   "metadata": {},
   "outputs": [
    {
     "data": {
      "text/plain": [
       "str"
      ]
     },
     "execution_count": 7,
     "metadata": {},
     "output_type": "execute_result"
    }
   ],
   "source": [
    "variable1=\"valor\" # cadena\n",
    "type(variable1)"
   ]
  },
  {
   "cell_type": "code",
   "execution_count": 8,
   "id": "a08a16ca-682f-4434-92e6-1998274cad4a",
   "metadata": {},
   "outputs": [
    {
     "data": {
      "text/plain": [
       "str"
      ]
     },
     "execution_count": 8,
     "metadata": {},
     "output_type": "execute_result"
    }
   ],
   "source": [
    "variable1=\"\"\"\n",
    "Multiples lineas\n",
    "de texto\n",
    "\"\"\"  # Cadena de multiples lineas\n",
    "type(variable1)"
   ]
  },
  {
   "cell_type": "code",
   "execution_count": 9,
   "id": "4f8316b2-a563-4aa8-8066-9e60fdd9fac0",
   "metadata": {},
   "outputs": [
    {
     "data": {
      "text/plain": [
       "int"
      ]
     },
     "execution_count": 9,
     "metadata": {},
     "output_type": "execute_result"
    }
   ],
   "source": [
    "variable2=123  # Entero puede ser + o -\n",
    "type(variable2)"
   ]
  },
  {
   "cell_type": "code",
   "execution_count": 10,
   "id": "1c9db13a-1d84-447e-91bc-744848d37753",
   "metadata": {},
   "outputs": [
    {
     "data": {
      "text/plain": [
       "float"
      ]
     },
     "execution_count": 10,
     "metadata": {},
     "output_type": "execute_result"
    }
   ],
   "source": [
    "variable2=420.69  # FLoat o decimal\n",
    "type(variable2)"
   ]
  },
  {
   "cell_type": "code",
   "execution_count": 11,
   "id": "a827c97b-8de2-4b7c-b126-d55b51e1d37a",
   "metadata": {},
   "outputs": [
    {
     "data": {
      "text/plain": [
       "bool"
      ]
     },
     "execution_count": 11,
     "metadata": {},
     "output_type": "execute_result"
    }
   ],
   "source": [
    "variable3=True  # True or False\n",
    "type(variable3)"
   ]
  },
  {
   "cell_type": "code",
   "execution_count": 45,
   "id": "9ab32882-d7f9-4a3e-971a-630f13c4ccf8",
   "metadata": {},
   "outputs": [
    {
     "data": {
      "text/plain": [
       "list"
      ]
     },
     "execution_count": 45,
     "metadata": {},
     "output_type": "execute_result"
    }
   ],
   "source": [
    "variable3=[1, 2.92, \"a\"]  # Lista\n",
    "type(variable3)"
   ]
  },
  {
   "cell_type": "code",
   "execution_count": 42,
   "id": "c25ad3fc-3cbb-45fe-bfe8-b8a67c9e4dfa",
   "metadata": {},
   "outputs": [
    {
     "data": {
      "text/plain": [
       "tuple"
      ]
     },
     "execution_count": 42,
     "metadata": {},
     "output_type": "execute_result"
    }
   ],
   "source": [
    "variable3=(1, 2.92, \"a\")  # Tupla\n",
    "type(variable3)"
   ]
  },
  {
   "cell_type": "code",
   "execution_count": 14,
   "id": "9802f92b-75e4-49b7-9310-81946e6815dd",
   "metadata": {},
   "outputs": [
    {
     "data": {
      "text/plain": [
       "[1, 2.92]"
      ]
     },
     "execution_count": 14,
     "metadata": {},
     "output_type": "execute_result"
    }
   ],
   "source": [
    "[variable3[0], variable3[1]]\n",
    "# Donde 0 y 1 son indices"
   ]
  },
  {
   "cell_type": "code",
   "execution_count": 25,
   "id": "df42c814-8322-4150-a3d7-fd857cc00066",
   "metadata": {},
   "outputs": [
    {
     "data": {
      "text/plain": [
       "dict"
      ]
     },
     "execution_count": 25,
     "metadata": {},
     "output_type": "execute_result"
    }
   ],
   "source": [
    "variable4={\n",
    "    \"entero\": 1,\n",
    "    \"decimal\": 2.92,\n",
    "    \"cadena\": \"a\"\n",
    "}  # Diccionario\n",
    "type(variable4)"
   ]
  },
  {
   "cell_type": "code",
   "execution_count": 16,
   "id": "22e4c19d-a10b-48cd-970d-a59afa98fb9b",
   "metadata": {},
   "outputs": [
    {
     "data": {
      "text/plain": [
       "'a'"
      ]
     },
     "execution_count": 16,
     "metadata": {},
     "output_type": "execute_result"
    }
   ],
   "source": [
    "variable4[\"cadena\"]"
   ]
  },
  {
   "cell_type": "code",
   "execution_count": 17,
   "id": "e92b2a02-83d6-47c7-84dd-1ed67dc1853d",
   "metadata": {},
   "outputs": [
    {
     "name": "stdout",
     "output_type": "stream",
     "text": [
      "Valores esperados\n"
     ]
    }
   ],
   "source": [
    "if variable4[\"cadena\"] == \"a\" and variable3[0] != 2:\n",
    "    print(\"Valores esperados\")\n",
    "elif variable2 < 420 or variable > 69:\n",
    "    print(\"Not Nice\")\n",
    "elif variable2 <= 420 or variable >= 69:\n",
    "    print(\"Almost Nice\")\n",
    "elif 69 in variable3:\n",
    "    print(\"Nice\")\n",
    "else:\n",
    "    print(\"whatever\")"
   ]
  },
  {
   "cell_type": "code",
   "execution_count": 18,
   "id": "0b64e1ad-7bc2-4d06-a03b-3d60fc8fbd02",
   "metadata": {},
   "outputs": [
    {
     "data": {
      "text/plain": [
       "[True, False, False]"
      ]
     },
     "execution_count": 18,
     "metadata": {},
     "output_type": "execute_result"
    }
   ],
   "source": [
    "[True and True, True and False, False and False]"
   ]
  },
  {
   "cell_type": "code",
   "execution_count": 19,
   "id": "7430fc20-ecf3-42c1-b29e-ad693e3d774a",
   "metadata": {},
   "outputs": [
    {
     "data": {
      "text/plain": [
       "[True, True, False]"
      ]
     },
     "execution_count": 19,
     "metadata": {},
     "output_type": "execute_result"
    }
   ],
   "source": [
    "[True or False, True or True, False or False]"
   ]
  },
  {
   "cell_type": "code",
   "execution_count": 20,
   "id": "e25e3c32-4f18-4682-8485-6ca9a67dfb58",
   "metadata": {},
   "outputs": [
    {
     "name": "stdout",
     "output_type": "stream",
     "text": [
      "1\n",
      "2.92\n",
      "a\n"
     ]
    }
   ],
   "source": [
    "for item in variable3:\n",
    "    print(item)"
   ]
  },
  {
   "cell_type": "code",
   "execution_count": 38,
   "id": "cc708207-e31c-4b54-8e46-395782aae2df",
   "metadata": {},
   "outputs": [
    {
     "data": {
      "text/plain": [
       "['dato 1', 'dato 2.92', 'dato a']"
      ]
     },
     "execution_count": 38,
     "metadata": {},
     "output_type": "execute_result"
    }
   ],
   "source": [
    "[f\"dato {item}\" for item in variable3]"
   ]
  },
  {
   "cell_type": "code",
   "execution_count": 21,
   "id": "e18c3aff-bd78-49ef-8687-1baaf8145a9a",
   "metadata": {},
   "outputs": [
    {
     "name": "stdout",
     "output_type": "stream",
     "text": [
      "entero 1\n",
      "decimal 2.92\n",
      "cadena a\n"
     ]
    }
   ],
   "source": [
    "for clave in variable4:\n",
    "    print(clave, variable4[clave])"
   ]
  },
  {
   "cell_type": "code",
   "execution_count": 35,
   "id": "727e0e8b-d81f-444c-ab9d-e0c03ad3019f",
   "metadata": {},
   "outputs": [
    {
     "name": "stdout",
     "output_type": "stream",
     "text": [
      "Validando dato 0...\n",
      "Validando dato 1...\n",
      "Valor encontrado!! 2.92\n"
     ]
    }
   ],
   "source": [
    "i = 0\n",
    "while True:\n",
    "    print(f\"Validando dato {i}...\")\n",
    "    if variable3[i] == 2.92:\n",
    "        print(f\"Valor encontrado!! {variable3[i]}\")\n",
    "        break\n",
    "    i += 1"
   ]
  },
  {
   "cell_type": "code",
   "execution_count": 50,
   "id": "7ae4d327-2a37-411f-8a4f-d0f05924dc15",
   "metadata": {},
   "outputs": [
    {
     "data": {
      "text/plain": [
       "[1, 2.92, 'a', 6, 9, 4, 10, 1, 1, 5]"
      ]
     },
     "execution_count": 50,
     "metadata": {},
     "output_type": "execute_result"
    }
   ],
   "source": [
    "from random import randint\n",
    "while len(variable3) < 10:\n",
    "    print(f\"Agregando dato {i}...\")\n",
    "    variable3.append(randint(1,10))\n",
    "variable3"
   ]
  },
  {
   "cell_type": "code",
   "execution_count": 52,
   "id": "b7ef0ae0-74dd-4a09-b5f1-cf50f9b166c3",
   "metadata": {},
   "outputs": [
    {
     "name": "stdout",
     "output_type": "stream",
     "text": [
      "[7, 10, 3, 9, 1, 6, 4, 10, 7, 9]\n",
      "6.6\n"
     ]
    }
   ],
   "source": [
    "data = [randint(1,10) for d in range(10)]\n",
    "\n",
    "def calculate_mean(values):\n",
    "    return sum(values)/len(values)\n",
    "print(data)\n",
    "print(calculate_mean(data))"
   ]
  },
  {
   "cell_type": "code",
   "execution_count": 68,
   "id": "8aa880cd-cb40-443f-993a-8157bff3ab01",
   "metadata": {},
   "outputs": [
    {
     "name": "stdout",
     "output_type": "stream",
     "text": [
      "Val1, Val2, Val3, Val4\n",
      "4, 3, 3, 1\n",
      "6, 5, 4, 8\n",
      "6, 7, 5, 3\n",
      "6, 1, 4, 7\n",
      "3, 5, 6, 5\n"
     ]
    }
   ],
   "source": [
    "raw = [[str(randint(1,10)) for k in range(4)] for j in range (5)]\n",
    "data = \"Val1, Val2, Val3, Val4\"\n",
    "for d in raw:\n",
    "    data += \"\\n\"\n",
    "    data += \", \".join(d)\n",
    "print(data)"
   ]
  },
  {
   "cell_type": "code",
   "execution_count": 79,
   "id": "2a9de8a5-e6fc-47ff-8400-ed394b4d7e2d",
   "metadata": {},
   "outputs": [
    {
     "name": "stdout",
     "output_type": "stream",
     "text": [
      "Val1, Val2, Val3, Val4\n",
      "4, 3, 3, 1\n",
      "6, 5, 4, 8\n",
      "6, 7, 5, 3\n",
      "6, 1, 4, 7\n",
      "3, 5, 6, 5\n",
      "2.75\n",
      "5.75\n",
      "5.25\n",
      "4.5\n",
      "4.75\n"
     ]
    }
   ],
   "source": [
    "def calculate_mean(values):\n",
    "    return sum(values)/len(values)\n",
    "print(data)\n",
    "v = data.split(\"\\n\")\n",
    "v.pop(0)\n",
    "for u in v:\n",
    "    t = list(map(int, u.split(\",\")))\n",
    "    print(calculate_mean(t))"
   ]
  },
  {
   "cell_type": "code",
   "execution_count": 80,
   "id": "577d104d-08d9-4295-95ce-674f61a6bbcf",
   "metadata": {},
   "outputs": [
    {
     "name": "stdout",
     "output_type": "stream",
     "text": [
      "texto\n"
     ]
    }
   ],
   "source": [
    "print(\"texto\")"
   ]
  },
  {
   "cell_type": "code",
   "execution_count": 84,
   "id": "b2f0b579-4f90-4379-bd78-f6c9995212cd",
   "metadata": {},
   "outputs": [
    {
     "data": {
      "text/plain": [
       "125708944"
      ]
     },
     "execution_count": 84,
     "metadata": {},
     "output_type": "execute_result"
    }
   ],
   "source": [
    "variable=11212**2\n",
    "variable"
   ]
  },
  {
   "cell_type": "code",
   "execution_count": 86,
   "id": "7d7ddefa-0041-4079-bdae-80fa4d6fd65b",
   "metadata": {},
   "outputs": [
    {
     "name": "stdout",
     "output_type": "stream",
     "text": [
      "Valor acertado\n",
      "0\n",
      "Valor incorrecto\n",
      "1\n",
      "Valor incorrecto\n",
      "2\n",
      "Valor incorrecto\n",
      "3\n",
      "Valor incorrecto\n",
      "4\n",
      "Valor acertado\n",
      "0\n"
     ]
    }
   ],
   "source": [
    "def probar(var):\n",
    "    aleatorio = randint(1, 10)\n",
    "    if var == aleatorio or var == 0:\n",
    "        print(\"Valor acertado\")\n",
    "    else:\n",
    "        print(\"Valor incorrecto\")\n",
    "    print(var)\n",
    "\n",
    "for i in range(5):\n",
    "    probar(i)\n",
    "\n",
    "probar(0)"
   ]
  }
 ],
 "metadata": {
  "kernelspec": {
   "display_name": "Python 3 (ipykernel)",
   "language": "python",
   "name": "python3"
  },
  "language_info": {
   "codemirror_mode": {
    "name": "ipython",
    "version": 3
   },
   "file_extension": ".py",
   "mimetype": "text/x-python",
   "name": "python",
   "nbconvert_exporter": "python",
   "pygments_lexer": "ipython3",
   "version": "3.10.8"
  }
 },
 "nbformat": 4,
 "nbformat_minor": 5
}
